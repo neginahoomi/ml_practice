{
 "cells": [
  {
   "cell_type": "markdown",
   "id": "1b556960-b128-4e68-9fa9-864937f6c807",
   "metadata": {},
   "source": [
    "# Problem and feature description\n",
    "Features: \n",
    "Serial: the serial number <br>\n",
    "Data: year of the sale of the house <br>\n",
    "Age: age of the house at the time of the sale<br>\n",
    "Distance: distance from the city center<br>\n",
    "Stores: number of stores in the locality<br>\n",
    "Latitude: the latitude<br>\n",
    "Longitude: the longitude<br>\n",
    "Price: the price"
   ]
  },
  {
   "cell_type": "code",
   "execution_count": 2,
   "id": "2a6e46ac-0d65-43c4-83ac-0436becb6f81",
   "metadata": {},
   "outputs": [
    {
     "data": {
      "text/html": [
       "<div>\n",
       "<style scoped>\n",
       "    .dataframe tbody tr th:only-of-type {\n",
       "        vertical-align: middle;\n",
       "    }\n",
       "\n",
       "    .dataframe tbody tr th {\n",
       "        vertical-align: top;\n",
       "    }\n",
       "\n",
       "    .dataframe thead th {\n",
       "        text-align: right;\n",
       "    }\n",
       "</style>\n",
       "<table border=\"1\" class=\"dataframe\">\n",
       "  <thead>\n",
       "    <tr style=\"text-align: right;\">\n",
       "      <th></th>\n",
       "      <th>serial</th>\n",
       "      <th>date</th>\n",
       "      <th>age</th>\n",
       "      <th>distance</th>\n",
       "      <th>stores</th>\n",
       "      <th>latitude</th>\n",
       "      <th>longitude</th>\n",
       "      <th>price</th>\n",
       "    </tr>\n",
       "  </thead>\n",
       "  <tbody>\n",
       "    <tr>\n",
       "      <th>0</th>\n",
       "      <td>0</td>\n",
       "      <td>2009</td>\n",
       "      <td>21</td>\n",
       "      <td>9</td>\n",
       "      <td>6</td>\n",
       "      <td>84</td>\n",
       "      <td>121</td>\n",
       "      <td>14264</td>\n",
       "    </tr>\n",
       "    <tr>\n",
       "      <th>1</th>\n",
       "      <td>1</td>\n",
       "      <td>2007</td>\n",
       "      <td>4</td>\n",
       "      <td>2</td>\n",
       "      <td>3</td>\n",
       "      <td>86</td>\n",
       "      <td>121</td>\n",
       "      <td>12032</td>\n",
       "    </tr>\n",
       "    <tr>\n",
       "      <th>2</th>\n",
       "      <td>2</td>\n",
       "      <td>2016</td>\n",
       "      <td>18</td>\n",
       "      <td>3</td>\n",
       "      <td>7</td>\n",
       "      <td>90</td>\n",
       "      <td>120</td>\n",
       "      <td>13560</td>\n",
       "    </tr>\n",
       "    <tr>\n",
       "      <th>3</th>\n",
       "      <td>3</td>\n",
       "      <td>2002</td>\n",
       "      <td>13</td>\n",
       "      <td>2</td>\n",
       "      <td>2</td>\n",
       "      <td>80</td>\n",
       "      <td>128</td>\n",
       "      <td>12029</td>\n",
       "    </tr>\n",
       "    <tr>\n",
       "      <th>4</th>\n",
       "      <td>4</td>\n",
       "      <td>2014</td>\n",
       "      <td>25</td>\n",
       "      <td>5</td>\n",
       "      <td>8</td>\n",
       "      <td>81</td>\n",
       "      <td>122</td>\n",
       "      <td>14157</td>\n",
       "    </tr>\n",
       "    <tr>\n",
       "      <th>...</th>\n",
       "      <td>...</td>\n",
       "      <td>...</td>\n",
       "      <td>...</td>\n",
       "      <td>...</td>\n",
       "      <td>...</td>\n",
       "      <td>...</td>\n",
       "      <td>...</td>\n",
       "      <td>...</td>\n",
       "    </tr>\n",
       "    <tr>\n",
       "      <th>4995</th>\n",
       "      <td>4995</td>\n",
       "      <td>2007</td>\n",
       "      <td>17</td>\n",
       "      <td>6</td>\n",
       "      <td>3</td>\n",
       "      <td>90</td>\n",
       "      <td>125</td>\n",
       "      <td>13539</td>\n",
       "    </tr>\n",
       "    <tr>\n",
       "      <th>4996</th>\n",
       "      <td>4996</td>\n",
       "      <td>2016</td>\n",
       "      <td>7</td>\n",
       "      <td>10</td>\n",
       "      <td>0</td>\n",
       "      <td>85</td>\n",
       "      <td>129</td>\n",
       "      <td>14757</td>\n",
       "    </tr>\n",
       "    <tr>\n",
       "      <th>4997</th>\n",
       "      <td>4997</td>\n",
       "      <td>2017</td>\n",
       "      <td>6</td>\n",
       "      <td>10</td>\n",
       "      <td>5</td>\n",
       "      <td>90</td>\n",
       "      <td>125</td>\n",
       "      <td>14102</td>\n",
       "    </tr>\n",
       "    <tr>\n",
       "      <th>4998</th>\n",
       "      <td>4998</td>\n",
       "      <td>2010</td>\n",
       "      <td>37</td>\n",
       "      <td>3</td>\n",
       "      <td>5</td>\n",
       "      <td>81</td>\n",
       "      <td>128</td>\n",
       "      <td>14313</td>\n",
       "    </tr>\n",
       "    <tr>\n",
       "      <th>4999</th>\n",
       "      <td>4999</td>\n",
       "      <td>2018</td>\n",
       "      <td>9</td>\n",
       "      <td>1</td>\n",
       "      <td>9</td>\n",
       "      <td>90</td>\n",
       "      <td>127</td>\n",
       "      <td>12770</td>\n",
       "    </tr>\n",
       "  </tbody>\n",
       "</table>\n",
       "<p>5000 rows × 8 columns</p>\n",
       "</div>"
      ],
      "text/plain": [
       "      serial  date  age  distance  stores  latitude  longitude  price\n",
       "0          0  2009   21         9       6        84        121  14264\n",
       "1          1  2007    4         2       3        86        121  12032\n",
       "2          2  2016   18         3       7        90        120  13560\n",
       "3          3  2002   13         2       2        80        128  12029\n",
       "4          4  2014   25         5       8        81        122  14157\n",
       "...      ...   ...  ...       ...     ...       ...        ...    ...\n",
       "4995    4995  2007   17         6       3        90        125  13539\n",
       "4996    4996  2016    7        10       0        85        129  14757\n",
       "4997    4997  2017    6        10       5        90        125  14102\n",
       "4998    4998  2010   37         3       5        81        128  14313\n",
       "4999    4999  2018    9         1       9        90        127  12770\n",
       "\n",
       "[5000 rows x 8 columns]"
      ]
     },
     "execution_count": 2,
     "metadata": {},
     "output_type": "execute_result"
    }
   ],
   "source": [
    "#read data\n",
    "import pandas as pd\n",
    "df = pd.read_csv('data.csv')\n",
    "df"
   ]
  },
  {
   "cell_type": "markdown",
   "id": "1cbf4cb6-562d-4180-bea8-6998f1c06361",
   "metadata": {},
   "source": [
    "# Explatory Data Analysis"
   ]
  },
  {
   "cell_type": "code",
   "execution_count": 3,
   "id": "8b878649-8763-42e5-8272-38bd74579514",
   "metadata": {},
   "outputs": [
    {
     "data": {
      "text/plain": [
       "serial       0\n",
       "date         0\n",
       "age          0\n",
       "distance     0\n",
       "stores       0\n",
       "latitude     0\n",
       "longitude    0\n",
       "price        0\n",
       "dtype: int64"
      ]
     },
     "execution_count": 3,
     "metadata": {},
     "output_type": "execute_result"
    }
   ],
   "source": [
    "df.isnull().sum()"
   ]
  },
  {
   "cell_type": "markdown",
   "id": "4081af0e-4b30-4822-9c6c-ecf34bc1bd17",
   "metadata": {},
   "source": [
    "# Data Visualization"
   ]
  },
  {
   "cell_type": "markdown",
   "id": "341f30ea-a317-4c12-9a27-58137ef645b7",
   "metadata": {},
   "source": [
    "# Data Preparation"
   ]
  },
  {
   "cell_type": "code",
   "execution_count": 4,
   "id": "87c88c31-8a71-4cbd-9866-c0e17632250a",
   "metadata": {},
   "outputs": [
    {
     "data": {
      "text/html": [
       "<div>\n",
       "<style scoped>\n",
       "    .dataframe tbody tr th:only-of-type {\n",
       "        vertical-align: middle;\n",
       "    }\n",
       "\n",
       "    .dataframe tbody tr th {\n",
       "        vertical-align: top;\n",
       "    }\n",
       "\n",
       "    .dataframe thead th {\n",
       "        text-align: right;\n",
       "    }\n",
       "</style>\n",
       "<table border=\"1\" class=\"dataframe\">\n",
       "  <thead>\n",
       "    <tr style=\"text-align: right;\">\n",
       "      <th></th>\n",
       "      <th>date</th>\n",
       "      <th>age</th>\n",
       "      <th>distance</th>\n",
       "      <th>stores</th>\n",
       "      <th>latitude</th>\n",
       "      <th>longitude</th>\n",
       "      <th>price</th>\n",
       "    </tr>\n",
       "  </thead>\n",
       "  <tbody>\n",
       "    <tr>\n",
       "      <th>0</th>\n",
       "      <td>2009</td>\n",
       "      <td>21</td>\n",
       "      <td>9</td>\n",
       "      <td>6</td>\n",
       "      <td>84</td>\n",
       "      <td>121</td>\n",
       "      <td>14264</td>\n",
       "    </tr>\n",
       "    <tr>\n",
       "      <th>1</th>\n",
       "      <td>2007</td>\n",
       "      <td>4</td>\n",
       "      <td>2</td>\n",
       "      <td>3</td>\n",
       "      <td>86</td>\n",
       "      <td>121</td>\n",
       "      <td>12032</td>\n",
       "    </tr>\n",
       "    <tr>\n",
       "      <th>2</th>\n",
       "      <td>2016</td>\n",
       "      <td>18</td>\n",
       "      <td>3</td>\n",
       "      <td>7</td>\n",
       "      <td>90</td>\n",
       "      <td>120</td>\n",
       "      <td>13560</td>\n",
       "    </tr>\n",
       "    <tr>\n",
       "      <th>3</th>\n",
       "      <td>2002</td>\n",
       "      <td>13</td>\n",
       "      <td>2</td>\n",
       "      <td>2</td>\n",
       "      <td>80</td>\n",
       "      <td>128</td>\n",
       "      <td>12029</td>\n",
       "    </tr>\n",
       "    <tr>\n",
       "      <th>4</th>\n",
       "      <td>2014</td>\n",
       "      <td>25</td>\n",
       "      <td>5</td>\n",
       "      <td>8</td>\n",
       "      <td>81</td>\n",
       "      <td>122</td>\n",
       "      <td>14157</td>\n",
       "    </tr>\n",
       "    <tr>\n",
       "      <th>...</th>\n",
       "      <td>...</td>\n",
       "      <td>...</td>\n",
       "      <td>...</td>\n",
       "      <td>...</td>\n",
       "      <td>...</td>\n",
       "      <td>...</td>\n",
       "      <td>...</td>\n",
       "    </tr>\n",
       "    <tr>\n",
       "      <th>4995</th>\n",
       "      <td>2007</td>\n",
       "      <td>17</td>\n",
       "      <td>6</td>\n",
       "      <td>3</td>\n",
       "      <td>90</td>\n",
       "      <td>125</td>\n",
       "      <td>13539</td>\n",
       "    </tr>\n",
       "    <tr>\n",
       "      <th>4996</th>\n",
       "      <td>2016</td>\n",
       "      <td>7</td>\n",
       "      <td>10</td>\n",
       "      <td>0</td>\n",
       "      <td>85</td>\n",
       "      <td>129</td>\n",
       "      <td>14757</td>\n",
       "    </tr>\n",
       "    <tr>\n",
       "      <th>4997</th>\n",
       "      <td>2017</td>\n",
       "      <td>6</td>\n",
       "      <td>10</td>\n",
       "      <td>5</td>\n",
       "      <td>90</td>\n",
       "      <td>125</td>\n",
       "      <td>14102</td>\n",
       "    </tr>\n",
       "    <tr>\n",
       "      <th>4998</th>\n",
       "      <td>2010</td>\n",
       "      <td>37</td>\n",
       "      <td>3</td>\n",
       "      <td>5</td>\n",
       "      <td>81</td>\n",
       "      <td>128</td>\n",
       "      <td>14313</td>\n",
       "    </tr>\n",
       "    <tr>\n",
       "      <th>4999</th>\n",
       "      <td>2018</td>\n",
       "      <td>9</td>\n",
       "      <td>1</td>\n",
       "      <td>9</td>\n",
       "      <td>90</td>\n",
       "      <td>127</td>\n",
       "      <td>12770</td>\n",
       "    </tr>\n",
       "  </tbody>\n",
       "</table>\n",
       "<p>5000 rows × 7 columns</p>\n",
       "</div>"
      ],
      "text/plain": [
       "      date  age  distance  stores  latitude  longitude  price\n",
       "0     2009   21         9       6        84        121  14264\n",
       "1     2007    4         2       3        86        121  12032\n",
       "2     2016   18         3       7        90        120  13560\n",
       "3     2002   13         2       2        80        128  12029\n",
       "4     2014   25         5       8        81        122  14157\n",
       "...    ...  ...       ...     ...       ...        ...    ...\n",
       "4995  2007   17         6       3        90        125  13539\n",
       "4996  2016    7        10       0        85        129  14757\n",
       "4997  2017    6        10       5        90        125  14102\n",
       "4998  2010   37         3       5        81        128  14313\n",
       "4999  2018    9         1       9        90        127  12770\n",
       "\n",
       "[5000 rows x 7 columns]"
      ]
     },
     "execution_count": 4,
     "metadata": {},
     "output_type": "execute_result"
    }
   ],
   "source": [
    "#remove serial number\n",
    "df = df.iloc[:, 1:]\n",
    "df"
   ]
  },
  {
   "cell_type": "code",
   "execution_count": 5,
   "id": "c056836c-3a4b-4d25-8430-39b257735f72",
   "metadata": {},
   "outputs": [
    {
     "data": {
      "text/html": [
       "<div>\n",
       "<style scoped>\n",
       "    .dataframe tbody tr th:only-of-type {\n",
       "        vertical-align: middle;\n",
       "    }\n",
       "\n",
       "    .dataframe tbody tr th {\n",
       "        vertical-align: top;\n",
       "    }\n",
       "\n",
       "    .dataframe thead th {\n",
       "        text-align: right;\n",
       "    }\n",
       "</style>\n",
       "<table border=\"1\" class=\"dataframe\">\n",
       "  <thead>\n",
       "    <tr style=\"text-align: right;\">\n",
       "      <th></th>\n",
       "      <th>date</th>\n",
       "      <th>age</th>\n",
       "      <th>distance</th>\n",
       "      <th>stores</th>\n",
       "      <th>latitude</th>\n",
       "      <th>longitude</th>\n",
       "      <th>price</th>\n",
       "    </tr>\n",
       "  </thead>\n",
       "  <tbody>\n",
       "    <tr>\n",
       "      <th>0</th>\n",
       "      <td>0.015978</td>\n",
       "      <td>0.181384</td>\n",
       "      <td>1.257002</td>\n",
       "      <td>0.345224</td>\n",
       "      <td>-0.307212</td>\n",
       "      <td>-1.260799</td>\n",
       "      <td>0.350088</td>\n",
       "    </tr>\n",
       "    <tr>\n",
       "      <th>1</th>\n",
       "      <td>-0.350485</td>\n",
       "      <td>-1.319118</td>\n",
       "      <td>-0.930610</td>\n",
       "      <td>-0.609312</td>\n",
       "      <td>0.325301</td>\n",
       "      <td>-1.260799</td>\n",
       "      <td>-1.836486</td>\n",
       "    </tr>\n",
       "    <tr>\n",
       "      <th>2</th>\n",
       "      <td>1.298598</td>\n",
       "      <td>-0.083410</td>\n",
       "      <td>-0.618094</td>\n",
       "      <td>0.663402</td>\n",
       "      <td>1.590328</td>\n",
       "      <td>-1.576456</td>\n",
       "      <td>-0.339584</td>\n",
       "    </tr>\n",
       "    <tr>\n",
       "      <th>3</th>\n",
       "      <td>-1.266643</td>\n",
       "      <td>-0.524735</td>\n",
       "      <td>-0.930610</td>\n",
       "      <td>-0.927491</td>\n",
       "      <td>-1.572238</td>\n",
       "      <td>0.948803</td>\n",
       "      <td>-1.839425</td>\n",
       "    </tr>\n",
       "    <tr>\n",
       "      <th>4</th>\n",
       "      <td>0.932135</td>\n",
       "      <td>0.534444</td>\n",
       "      <td>0.006938</td>\n",
       "      <td>0.981581</td>\n",
       "      <td>-1.255981</td>\n",
       "      <td>-0.945141</td>\n",
       "      <td>0.245266</td>\n",
       "    </tr>\n",
       "    <tr>\n",
       "      <th>...</th>\n",
       "      <td>...</td>\n",
       "      <td>...</td>\n",
       "      <td>...</td>\n",
       "      <td>...</td>\n",
       "      <td>...</td>\n",
       "      <td>...</td>\n",
       "      <td>...</td>\n",
       "    </tr>\n",
       "    <tr>\n",
       "      <th>4995</th>\n",
       "      <td>-0.350485</td>\n",
       "      <td>-0.171675</td>\n",
       "      <td>0.319454</td>\n",
       "      <td>-0.609312</td>\n",
       "      <td>1.590328</td>\n",
       "      <td>0.001831</td>\n",
       "      <td>-0.360156</td>\n",
       "    </tr>\n",
       "    <tr>\n",
       "      <th>4996</th>\n",
       "      <td>1.298598</td>\n",
       "      <td>-1.054324</td>\n",
       "      <td>1.569518</td>\n",
       "      <td>-1.563848</td>\n",
       "      <td>0.009045</td>\n",
       "      <td>1.264460</td>\n",
       "      <td>0.833055</td>\n",
       "    </tr>\n",
       "    <tr>\n",
       "      <th>4997</th>\n",
       "      <td>1.481830</td>\n",
       "      <td>-1.142588</td>\n",
       "      <td>1.569518</td>\n",
       "      <td>0.027045</td>\n",
       "      <td>1.590328</td>\n",
       "      <td>0.001831</td>\n",
       "      <td>0.191385</td>\n",
       "    </tr>\n",
       "    <tr>\n",
       "      <th>4998</th>\n",
       "      <td>0.199209</td>\n",
       "      <td>1.593622</td>\n",
       "      <td>-0.618094</td>\n",
       "      <td>0.027045</td>\n",
       "      <td>-1.255981</td>\n",
       "      <td>0.948803</td>\n",
       "      <td>0.398091</td>\n",
       "    </tr>\n",
       "    <tr>\n",
       "      <th>4999</th>\n",
       "      <td>1.665061</td>\n",
       "      <td>-0.877794</td>\n",
       "      <td>-1.243126</td>\n",
       "      <td>1.299760</td>\n",
       "      <td>1.590328</td>\n",
       "      <td>0.633146</td>\n",
       "      <td>-1.113506</td>\n",
       "    </tr>\n",
       "  </tbody>\n",
       "</table>\n",
       "<p>5000 rows × 7 columns</p>\n",
       "</div>"
      ],
      "text/plain": [
       "          date       age  distance    stores  latitude  longitude     price\n",
       "0     0.015978  0.181384  1.257002  0.345224 -0.307212  -1.260799  0.350088\n",
       "1    -0.350485 -1.319118 -0.930610 -0.609312  0.325301  -1.260799 -1.836486\n",
       "2     1.298598 -0.083410 -0.618094  0.663402  1.590328  -1.576456 -0.339584\n",
       "3    -1.266643 -0.524735 -0.930610 -0.927491 -1.572238   0.948803 -1.839425\n",
       "4     0.932135  0.534444  0.006938  0.981581 -1.255981  -0.945141  0.245266\n",
       "...        ...       ...       ...       ...       ...        ...       ...\n",
       "4995 -0.350485 -0.171675  0.319454 -0.609312  1.590328   0.001831 -0.360156\n",
       "4996  1.298598 -1.054324  1.569518 -1.563848  0.009045   1.264460  0.833055\n",
       "4997  1.481830 -1.142588  1.569518  0.027045  1.590328   0.001831  0.191385\n",
       "4998  0.199209  1.593622 -0.618094  0.027045 -1.255981   0.948803  0.398091\n",
       "4999  1.665061 -0.877794 -1.243126  1.299760  1.590328   0.633146 -1.113506\n",
       "\n",
       "[5000 rows x 7 columns]"
      ]
     },
     "execution_count": 5,
     "metadata": {},
     "output_type": "execute_result"
    }
   ],
   "source": [
    "#normalize data\n",
    "df_norm = (df - df.mean())/df.std()\n",
    "df_norm"
   ]
  },
  {
   "cell_type": "code",
   "execution_count": 6,
   "id": "645a42bd-54ee-486d-b604-12a94b3c6639",
   "metadata": {},
   "outputs": [],
   "source": [
    "# convert label value back to original\n",
    "y_mean = df['price'].mean()\n",
    "y_std = df['price'].std()\n",
    "\n",
    "def convert_label_value(pred):\n",
    "    return int(pred * y_std + y_mean)\n"
   ]
  },
  {
   "cell_type": "code",
   "execution_count": 7,
   "id": "8a975705-9a1c-4d51-84e9-9fdf9a71ad27",
   "metadata": {},
   "outputs": [
    {
     "data": {
      "text/html": [
       "<div>\n",
       "<style scoped>\n",
       "    .dataframe tbody tr th:only-of-type {\n",
       "        vertical-align: middle;\n",
       "    }\n",
       "\n",
       "    .dataframe tbody tr th {\n",
       "        vertical-align: top;\n",
       "    }\n",
       "\n",
       "    .dataframe thead th {\n",
       "        text-align: right;\n",
       "    }\n",
       "</style>\n",
       "<table border=\"1\" class=\"dataframe\">\n",
       "  <thead>\n",
       "    <tr style=\"text-align: right;\">\n",
       "      <th></th>\n",
       "      <th>date</th>\n",
       "      <th>age</th>\n",
       "      <th>distance</th>\n",
       "      <th>stores</th>\n",
       "      <th>latitude</th>\n",
       "      <th>longitude</th>\n",
       "    </tr>\n",
       "  </thead>\n",
       "  <tbody>\n",
       "    <tr>\n",
       "      <th>0</th>\n",
       "      <td>0.015978</td>\n",
       "      <td>0.181384</td>\n",
       "      <td>1.257002</td>\n",
       "      <td>0.345224</td>\n",
       "      <td>-0.307212</td>\n",
       "      <td>-1.260799</td>\n",
       "    </tr>\n",
       "    <tr>\n",
       "      <th>1</th>\n",
       "      <td>-0.350485</td>\n",
       "      <td>-1.319118</td>\n",
       "      <td>-0.930610</td>\n",
       "      <td>-0.609312</td>\n",
       "      <td>0.325301</td>\n",
       "      <td>-1.260799</td>\n",
       "    </tr>\n",
       "    <tr>\n",
       "      <th>2</th>\n",
       "      <td>1.298598</td>\n",
       "      <td>-0.083410</td>\n",
       "      <td>-0.618094</td>\n",
       "      <td>0.663402</td>\n",
       "      <td>1.590328</td>\n",
       "      <td>-1.576456</td>\n",
       "    </tr>\n",
       "    <tr>\n",
       "      <th>3</th>\n",
       "      <td>-1.266643</td>\n",
       "      <td>-0.524735</td>\n",
       "      <td>-0.930610</td>\n",
       "      <td>-0.927491</td>\n",
       "      <td>-1.572238</td>\n",
       "      <td>0.948803</td>\n",
       "    </tr>\n",
       "    <tr>\n",
       "      <th>4</th>\n",
       "      <td>0.932135</td>\n",
       "      <td>0.534444</td>\n",
       "      <td>0.006938</td>\n",
       "      <td>0.981581</td>\n",
       "      <td>-1.255981</td>\n",
       "      <td>-0.945141</td>\n",
       "    </tr>\n",
       "    <tr>\n",
       "      <th>...</th>\n",
       "      <td>...</td>\n",
       "      <td>...</td>\n",
       "      <td>...</td>\n",
       "      <td>...</td>\n",
       "      <td>...</td>\n",
       "      <td>...</td>\n",
       "    </tr>\n",
       "    <tr>\n",
       "      <th>4995</th>\n",
       "      <td>-0.350485</td>\n",
       "      <td>-0.171675</td>\n",
       "      <td>0.319454</td>\n",
       "      <td>-0.609312</td>\n",
       "      <td>1.590328</td>\n",
       "      <td>0.001831</td>\n",
       "    </tr>\n",
       "    <tr>\n",
       "      <th>4996</th>\n",
       "      <td>1.298598</td>\n",
       "      <td>-1.054324</td>\n",
       "      <td>1.569518</td>\n",
       "      <td>-1.563848</td>\n",
       "      <td>0.009045</td>\n",
       "      <td>1.264460</td>\n",
       "    </tr>\n",
       "    <tr>\n",
       "      <th>4997</th>\n",
       "      <td>1.481830</td>\n",
       "      <td>-1.142588</td>\n",
       "      <td>1.569518</td>\n",
       "      <td>0.027045</td>\n",
       "      <td>1.590328</td>\n",
       "      <td>0.001831</td>\n",
       "    </tr>\n",
       "    <tr>\n",
       "      <th>4998</th>\n",
       "      <td>0.199209</td>\n",
       "      <td>1.593622</td>\n",
       "      <td>-0.618094</td>\n",
       "      <td>0.027045</td>\n",
       "      <td>-1.255981</td>\n",
       "      <td>0.948803</td>\n",
       "    </tr>\n",
       "    <tr>\n",
       "      <th>4999</th>\n",
       "      <td>1.665061</td>\n",
       "      <td>-0.877794</td>\n",
       "      <td>-1.243126</td>\n",
       "      <td>1.299760</td>\n",
       "      <td>1.590328</td>\n",
       "      <td>0.633146</td>\n",
       "    </tr>\n",
       "  </tbody>\n",
       "</table>\n",
       "<p>5000 rows × 6 columns</p>\n",
       "</div>"
      ],
      "text/plain": [
       "          date       age  distance    stores  latitude  longitude\n",
       "0     0.015978  0.181384  1.257002  0.345224 -0.307212  -1.260799\n",
       "1    -0.350485 -1.319118 -0.930610 -0.609312  0.325301  -1.260799\n",
       "2     1.298598 -0.083410 -0.618094  0.663402  1.590328  -1.576456\n",
       "3    -1.266643 -0.524735 -0.930610 -0.927491 -1.572238   0.948803\n",
       "4     0.932135  0.534444  0.006938  0.981581 -1.255981  -0.945141\n",
       "...        ...       ...       ...       ...       ...        ...\n",
       "4995 -0.350485 -0.171675  0.319454 -0.609312  1.590328   0.001831\n",
       "4996  1.298598 -1.054324  1.569518 -1.563848  0.009045   1.264460\n",
       "4997  1.481830 -1.142588  1.569518  0.027045  1.590328   0.001831\n",
       "4998  0.199209  1.593622 -0.618094  0.027045 -1.255981   0.948803\n",
       "4999  1.665061 -0.877794 -1.243126  1.299760  1.590328   0.633146\n",
       "\n",
       "[5000 rows x 6 columns]"
      ]
     },
     "execution_count": 7,
     "metadata": {},
     "output_type": "execute_result"
    }
   ],
   "source": [
    "x = df_norm.iloc[:, :6]\n",
    "x"
   ]
  },
  {
   "cell_type": "code",
   "execution_count": 8,
   "id": "992eed2e-4ba6-413a-b672-d9a5b19a6181",
   "metadata": {},
   "outputs": [
    {
     "data": {
      "text/plain": [
       "0       0.350088\n",
       "1      -1.836486\n",
       "2      -0.339584\n",
       "3      -1.839425\n",
       "4       0.245266\n",
       "          ...   \n",
       "4995   -0.360156\n",
       "4996    0.833055\n",
       "4997    0.191385\n",
       "4998    0.398091\n",
       "4999   -1.113506\n",
       "Name: price, Length: 5000, dtype: float64"
      ]
     },
     "execution_count": 8,
     "metadata": {},
     "output_type": "execute_result"
    }
   ],
   "source": [
    "y = df_norm.iloc[:, -1]\n",
    "y"
   ]
  },
  {
   "cell_type": "code",
   "execution_count": 9,
   "id": "8907088e-a204-4aad-b35c-3583fbbec782",
   "metadata": {},
   "outputs": [],
   "source": [
    "x_arr = x.values\n",
    "y_arr = y.values"
   ]
  },
  {
   "cell_type": "code",
   "execution_count": 10,
   "id": "ae2283b9-a8fb-4493-aae0-76f9cedab610",
   "metadata": {},
   "outputs": [
    {
     "data": {
      "text/plain": [
       "((5000, 6), (5000,))"
      ]
     },
     "execution_count": 10,
     "metadata": {},
     "output_type": "execute_result"
    }
   ],
   "source": [
    "x_arr.shape, y_arr.shape"
   ]
  },
  {
   "cell_type": "code",
   "execution_count": 11,
   "id": "24e22191-2d10-410c-a911-0d45102cce4d",
   "metadata": {},
   "outputs": [],
   "source": [
    "from sklearn.model_selection import train_test_split\n",
    "\n",
    "x_train, x_test, y_train, y_test = train_test_split(x_arr, y_arr, test_size=0.05, random_state=0)"
   ]
  },
  {
   "cell_type": "code",
   "execution_count": 12,
   "id": "6d4e02b8-2619-405f-ad9f-99b536e7763d",
   "metadata": {},
   "outputs": [
    {
     "data": {
      "text/plain": [
       "((4750, 6), (4750,), (250, 6), (250,))"
      ]
     },
     "execution_count": 12,
     "metadata": {},
     "output_type": "execute_result"
    }
   ],
   "source": [
    "x_train.shape, y_train.shape, x_test.shape, y_test.shape"
   ]
  },
  {
   "cell_type": "markdown",
   "id": "44e47420-db5b-4f25-bcb6-3125d7521c8b",
   "metadata": {},
   "source": [
    "# Training the model"
   ]
  },
  {
   "cell_type": "code",
   "execution_count": 13,
   "id": "d7c7cdde-cdd2-4f28-aaa3-f0800f44da91",
   "metadata": {},
   "outputs": [
    {
     "name": "stdout",
     "output_type": "stream",
     "text": [
      "Model: \"sequential\"\n",
      "_________________________________________________________________\n",
      " Layer (type)                Output Shape              Param #   \n",
      "=================================================================\n",
      " dense (Dense)               (None, 10)                70        \n",
      "                                                                 \n",
      " dense_1 (Dense)             (None, 20)                220       \n",
      "                                                                 \n",
      " dense_2 (Dense)             (None, 5)                 105       \n",
      "                                                                 \n",
      " dense_3 (Dense)             (None, 1)                 6         \n",
      "                                                                 \n",
      "=================================================================\n",
      "Total params: 401\n",
      "Trainable params: 401\n",
      "Non-trainable params: 0\n",
      "_________________________________________________________________\n"
     ]
    }
   ],
   "source": [
    "from tensorflow.keras.models import Sequential\n",
    "from tensorflow.keras.layers import Dense\n",
    "\n",
    "def get_model():\n",
    "    model = Sequential()\n",
    "    model.add(Dense(10, input_shape=(6,), activation='relu'))\n",
    "    model.add(Dense(20, activation='relu'))\n",
    "    model.add(Dense(5, activation='relu'))\n",
    "    model.add(Dense(1))\n",
    "    model.compile(optimizer='adam', loss='mse')\n",
    "    return model\n",
    "\n",
    "get_model().summary()"
   ]
  },
  {
   "cell_type": "code",
   "execution_count": 14,
   "id": "8705fe29-8261-46f4-a17e-dff9e4560a60",
   "metadata": {},
   "outputs": [
    {
     "data": {
      "text/plain": [
       "array([[-1.6331055 , -0.52473452,  0.00693785,  0.34522379,  1.27407102,\n",
       "         0.00183081],\n",
       "       [ 0.56567221,  0.26964911, -0.61809404,  0.981581  ,  1.59032754,\n",
       "        -1.26079862],\n",
       "       [-0.16725369,  1.68188666,  0.00693785, -0.29113342,  1.59032754,\n",
       "         1.26446025],\n",
       "       ...,\n",
       "       [ 0.01597778, -0.08341028, -0.61809404,  0.34522379, -1.25598114,\n",
       "         0.63314553],\n",
       "       [-0.35048517, -1.67217753,  0.9444857 ,  1.2997596 , -0.93972462,\n",
       "        -1.57645598],\n",
       "       [ 1.11536664,  1.15229758,  1.25700164,  0.02704518, -1.25598114,\n",
       "         1.26446025]])"
      ]
     },
     "execution_count": 14,
     "metadata": {},
     "output_type": "execute_result"
    }
   ],
   "source": [
    "x_test"
   ]
  },
  {
   "cell_type": "code",
   "execution_count": 15,
   "id": "b592d88b-c62d-4090-a15f-9c489accca88",
   "metadata": {},
   "outputs": [
    {
     "name": "stdout",
     "output_type": "stream",
     "text": [
      "8/8 [==============================] - 1s 2ms/step\n"
     ]
    }
   ],
   "source": [
    "model = get_model()\n",
    "preds_on_untrained = model.predict(x_test)"
   ]
  },
  {
   "cell_type": "code",
   "execution_count": 16,
   "id": "53c2aa9f-a64f-4587-9add-157244e0305d",
   "metadata": {},
   "outputs": [
    {
     "name": "stdout",
     "output_type": "stream",
     "text": [
      "Epoch 1/100\n",
      "141/141 [==============================] - 1s 4ms/step - loss: 0.7703 - val_loss: 0.4253\n",
      "Epoch 2/100\n",
      "141/141 [==============================] - 0s 3ms/step - loss: 0.2549 - val_loss: 0.1873\n",
      "Epoch 3/100\n",
      "141/141 [==============================] - 0s 3ms/step - loss: 0.1916 - val_loss: 0.1608\n",
      "Epoch 4/100\n",
      "141/141 [==============================] - 0s 3ms/step - loss: 0.1769 - val_loss: 0.1627\n",
      "Epoch 5/100\n",
      "141/141 [==============================] - 0s 3ms/step - loss: 0.1700 - val_loss: 0.1491\n",
      "Epoch 6/100\n",
      "141/141 [==============================] - 0s 3ms/step - loss: 0.1670 - val_loss: 0.1484\n",
      "Epoch 7/100\n",
      "141/141 [==============================] - 0s 3ms/step - loss: 0.1636 - val_loss: 0.1490\n",
      "Epoch 8/100\n",
      "141/141 [==============================] - 0s 3ms/step - loss: 0.1626 - val_loss: 0.1483\n",
      "Epoch 9/100\n",
      "141/141 [==============================] - 0s 3ms/step - loss: 0.1605 - val_loss: 0.1467\n",
      "Epoch 10/100\n",
      "141/141 [==============================] - 0s 3ms/step - loss: 0.1594 - val_loss: 0.1470\n",
      "Epoch 11/100\n",
      "141/141 [==============================] - 0s 3ms/step - loss: 0.1584 - val_loss: 0.1465\n",
      "Epoch 12/100\n",
      "141/141 [==============================] - 0s 3ms/step - loss: 0.1575 - val_loss: 0.1454\n",
      "Epoch 13/100\n",
      "141/141 [==============================] - 0s 3ms/step - loss: 0.1576 - val_loss: 0.1463\n",
      "Epoch 14/100\n",
      "141/141 [==============================] - 0s 3ms/step - loss: 0.1567 - val_loss: 0.1451\n",
      "Epoch 15/100\n",
      "141/141 [==============================] - 0s 3ms/step - loss: 0.1559 - val_loss: 0.1460\n",
      "Epoch 16/100\n",
      "141/141 [==============================] - 0s 3ms/step - loss: 0.1555 - val_loss: 0.1458\n",
      "Epoch 17/100\n",
      "141/141 [==============================] - 0s 3ms/step - loss: 0.1556 - val_loss: 0.1456\n",
      "Epoch 18/100\n",
      "141/141 [==============================] - 1s 4ms/step - loss: 0.1545 - val_loss: 0.1431\n",
      "Epoch 19/100\n",
      "141/141 [==============================] - 1s 4ms/step - loss: 0.1540 - val_loss: 0.1454\n",
      "Epoch 20/100\n",
      "141/141 [==============================] - 1s 4ms/step - loss: 0.1541 - val_loss: 0.1452\n",
      "Epoch 21/100\n",
      "141/141 [==============================] - 0s 3ms/step - loss: 0.1538 - val_loss: 0.1433\n",
      "Epoch 22/100\n",
      "141/141 [==============================] - 0s 3ms/step - loss: 0.1539 - val_loss: 0.1447\n",
      "Epoch 23/100\n",
      "141/141 [==============================] - 0s 3ms/step - loss: 0.1532 - val_loss: 0.1444\n"
     ]
    },
    {
     "data": {
      "text/plain": [
       "<keras.callbacks.History at 0x270aa70b850>"
      ]
     },
     "execution_count": 16,
     "metadata": {},
     "output_type": "execute_result"
    }
   ],
   "source": [
    "from tensorflow.keras.callbacks import EarlyStopping\n",
    "es = EarlyStopping(monitor='val_loss', patience=5)\n",
    "model = get_model()\n",
    "#preds_on_untrained = model.predict(x_test)\n",
    "history = model.fit(\n",
    "     x_train, y_train,\n",
    "     #validation_data = (x_test, y_test),\n",
    "     validation_split=0.05,\n",
    "     epochs = 100,\n",
    "     callbacks = [es]\n",
    " )\n",
    "history"
   ]
  },
  {
   "cell_type": "code",
   "execution_count": 17,
   "id": "0ad20c52-ae43-4854-9e9d-b49fb9335870",
   "metadata": {},
   "outputs": [
    {
     "data": {
      "text/plain": [
       "{'loss': [0.7702653408050537,\n",
       "  0.25487980246543884,\n",
       "  0.19164808094501495,\n",
       "  0.1769285798072815,\n",
       "  0.16999709606170654,\n",
       "  0.1669606864452362,\n",
       "  0.1635977029800415,\n",
       "  0.16255132853984833,\n",
       "  0.16048236191272736,\n",
       "  0.15941977500915527,\n",
       "  0.1584247499704361,\n",
       "  0.15747864544391632,\n",
       "  0.15756775438785553,\n",
       "  0.15671199560165405,\n",
       "  0.15586529672145844,\n",
       "  0.15552403032779694,\n",
       "  0.15564872324466705,\n",
       "  0.1545204520225525,\n",
       "  0.1540316492319107,\n",
       "  0.15412400662899017,\n",
       "  0.1537928432226181,\n",
       "  0.15392066538333893,\n",
       "  0.15315556526184082],\n",
       " 'val_loss': [0.4253363609313965,\n",
       "  0.18732832372188568,\n",
       "  0.16076551377773285,\n",
       "  0.16267959773540497,\n",
       "  0.14909908175468445,\n",
       "  0.1484374701976776,\n",
       "  0.1489739716053009,\n",
       "  0.14829427003860474,\n",
       "  0.14673082530498505,\n",
       "  0.1470184624195099,\n",
       "  0.14654070138931274,\n",
       "  0.14541181921958923,\n",
       "  0.14627745747566223,\n",
       "  0.1451452225446701,\n",
       "  0.1459691822528839,\n",
       "  0.14577892422676086,\n",
       "  0.14557895064353943,\n",
       "  0.143111914396286,\n",
       "  0.14544160664081573,\n",
       "  0.1452145129442215,\n",
       "  0.14328427612781525,\n",
       "  0.14473439753055573,\n",
       "  0.14439384639263153]}"
      ]
     },
     "execution_count": 17,
     "metadata": {},
     "output_type": "execute_result"
    }
   ],
   "source": [
    "history.history"
   ]
  },
  {
   "cell_type": "code",
   "execution_count": 18,
   "id": "a00dbe29-9d0b-4e57-b0c5-5abff6ad88b8",
   "metadata": {},
   "outputs": [
    {
     "data": {
      "text/plain": [
       "[<matplotlib.lines.Line2D at 0x272113d62f0>]"
      ]
     },
     "execution_count": 18,
     "metadata": {},
     "output_type": "execute_result"
    },
    {
     "data": {
      "image/png": "[encoded data removed]",
      "text/plain": [
       "<Figure size 432x288 with 1 Axes>"
      ]
     },
     "metadata": {
      "needs_background": "light"
     },
     "output_type": "display_data"
    }
   ],
   "source": [
    "import matplotlib.pyplot as plt\n",
    "\n",
    "plt.plot(history.history['loss'], color='g')\n",
    "plt.plot(history.history['val_loss'], color='r')"
   ]
  },
  {
   "cell_type": "code",
   "execution_count": 19,
   "id": "d119860a-f379-4e0a-9ccc-65683fa2d489",
   "metadata": {},
   "outputs": [
    {
     "name": "stdout",
     "output_type": "stream",
     "text": [
      "8/8 [==============================] - 0s 2ms/step\n"
     ]
    }
   ],
   "source": [
    "import utils\n",
    "preds_on_trained = model.predict(x_test)\n",
    "#utils.compare_predictions(preds_on_untrained, preds_on_trianed, y_test)"
   ]
  },
  {
   "cell_type": "code",
   "execution_count": 20,
   "id": "37111afb-2b71-4814-955d-4120978ea6bb",
   "metadata": {},
   "outputs": [
    {
     "name": "stderr",
     "output_type": "stream",
     "text": [
      "C:\\Users\\nnaho\\anaconda3\\envs\\pythoncharmer\\lib\\site-packages\\numpy\\core\\shape_base.py:65: VisibleDeprecationWarning: Creating an ndarray from ragged nested sequences (which is a list-or-tuple of lists-or-tuples-or ndarrays with different lengths or shapes) is deprecated. If you meant to do this, you must specify 'dtype=object' when creating the ndarray.\n",
      "  ary = asanyarray(ary)\n"
     ]
    },
    {
     "data": {
      "image/png": "[encoded data removed]",
      "text/plain": [
       "<Figure size 720x720 with 1 Axes>"
      ]
     },
     "metadata": {
      "needs_background": "light"
     },
     "output_type": "display_data"
    }
   ],
   "source": [
    "plt.figure(figsize=(10,10))\n",
    "plt.scatter(preds_on_trained, y_test, c='crimson')\n",
    "#plt.yscale('log')\n",
    "#plt.xscale('log')\n",
    "\n",
    "p1 = max(max(preds_on_trained), max(y_test))\n",
    "p2 = min(min(preds_on_trained), min(y_test))\n",
    "plt.plot([p1, p2], [p1, p2], 'b-')\n",
    "plt.ylabel('True Values', fontsize=15)\n",
    "plt.xlabel('Predictions', fontsize=15)\n",
    "plt.axis('equal')\n",
    "plt.show()"
   ]
  },
  {
   "cell_type": "code",
   "execution_count": 21,
   "id": "abfa4e46-3b1c-4621-9e12-8a526cc393dc",
   "metadata": {},
   "outputs": [
    {
     "data": {
      "image/png": "[encoded data removed]",
      "text/plain": [
       "<Figure size 720x720 with 1 Axes>"
      ]
     },
     "metadata": {
      "needs_background": "light"
     },
     "output_type": "display_data"
    }
   ],
   "source": [
    "plt.figure(figsize=(10,10))\n",
    "plt.scatter(preds_on_untrained, y_test, c='crimson')\n",
    "#plt.yscale('log')\n",
    "#plt.xscale('log')\n",
    "\n",
    "p1 = max(max(preds_on_untrained), max(y_test))\n",
    "p2 = min(min(preds_on_untrained), min(y_test))\n",
    "plt.plot([p1, p2], [p1, p2], 'b-')\n",
    "plt.ylabel('True Values', fontsize=15)\n",
    "plt.xlabel('Predictions', fontsize=15)\n",
    "plt.axis('equal')\n",
    "plt.show()"
   ]
  },
  {
   "cell_type": "code",
   "execution_count": 22,
   "id": "f6d8c1a6-9101-41bb-bdbb-08879c6987be",
   "metadata": {},
   "outputs": [],
   "source": [
    "price_untrained = [convert_label_value(y) for y in preds_on_untrained]\n",
    "price_trained = [convert_label_value(y) for y in preds_on_trained]\n",
    "price_test = [convert_label_value(y) for y in y_test]"
   ]
  },
  {
   "cell_type": "code",
   "execution_count": 23,
   "id": "7d314023-ef38-415a-b0a2-d4ef604cfbfe",
   "metadata": {},
   "outputs": [
    {
     "data": {
      "image/png": "[encoded data removed]",
      "text/plain": [
       "<Figure size 432x288 with 1 Axes>"
      ]
     },
     "metadata": {
      "needs_background": "light"
     },
     "output_type": "display_data"
    }
   ],
   "source": [
    "# plt.figure(figsize=(10, 10))\n",
    "plt.subplot()\n",
    "plt.scatter(price_untrained, price_test, c='crimson')\n",
    "p1 = max(max(price_untrained), max(price_test))\n",
    "p2 = min(min(price_untrained), min(price_test))\n",
    "plt.plot([p1, p2], [p1, p2], 'b-')\n",
    "plt.ylabel('True Values', fontsize=15)\n",
    "plt.xlabel('Predictions', fontsize=15)\n",
    "plt.axis('equal')\n",
    "\n",
    "plt.subplot()\n",
    "plt.scatter(price_trained, price_test, c='blue')\n",
    "p1 = max(max(price_trained), max(price_test))\n",
    "p2 = min(min(price_trained), min(price_test))\n",
    "plt.plot([p1, p2], [p1, p2], 'b-')\n",
    "plt.ylabel('True Values', fontsize=15)\n",
    "plt.xlabel('Predictions', fontsize=15)\n",
    "plt.axis('equal')\n",
    "\n",
    "plt.show()"
   ]
  },
  {
   "cell_type": "code",
   "execution_count": null,
   "id": "adb586fc-c937-46b5-b53d-caec5f2c72d9",
   "metadata": {},
   "outputs": [],
   "source": []
  }
 ],
 "metadata": {
  "kernelspec": {
   "display_name": "Python 3 (ipykernel)",
   "language": "python",
   "name": "python3"
  },
  "language_info": {
   "codemirror_mode": {
    "name": "ipython",
    "version": 3
   },
   "file_extension": ".py",
   "mimetype": "text/x-python",
   "name": "python",
   "nbconvert_exporter": "python",
   "pygments_lexer": "ipython3",
   "version": "3.10.4"
  }
 },
 "nbformat": 4,
 "nbformat_minor": 5
}
